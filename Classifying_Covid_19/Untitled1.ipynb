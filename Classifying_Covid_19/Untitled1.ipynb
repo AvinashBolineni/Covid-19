{
  "nbformat": 4,
  "nbformat_minor": 0,
  "metadata": {
    "colab": {
      "name": "Untitled1.ipynb",
      "provenance": []
    },
    "kernelspec": {
      "name": "python3",
      "display_name": "Python 3"
    },
    "accelerator": "GPU"
  },
  "cells": [
    {
      "cell_type": "code",
      "metadata": {
        "id": "pdxVC0hnBMo3",
        "colab_type": "code",
        "colab": {
          "base_uri": "https://localhost:8080/",
          "height": 34
        },
        "outputId": "34b27bce-3d1b-46f5-8668-580ae5c68a35"
      },
      "source": [
        "from pathlib import Path\n",
        "import numpy as np\n",
        "import joblib\n",
        "from keras.preprocessing import image\n",
        "from keras.applications import xception\n",
        "\n",
        "# Empty lists to hold the images and labels for each each image\n",
        "x_train = []\n",
        "y_train = []"
      ],
      "execution_count": 1,
      "outputs": [
        {
          "output_type": "stream",
          "text": [
            "Using TensorFlow backend.\n"
          ],
          "name": "stderr"
        }
      ]
    },
    {
      "cell_type": "code",
      "metadata": {
        "id": "YmEmDeXKHtyU",
        "colab_type": "code",
        "colab": {
          "base_uri": "https://localhost:8080/",
          "height": 121
        },
        "outputId": "453e66fa-34d1-46c1-ac1d-9e6245061f85"
      },
      "source": [
        "!git clone https://github.com/deepanrajm/Covid-19.git"
      ],
      "execution_count": 2,
      "outputs": [
        {
          "output_type": "stream",
          "text": [
            "Cloning into 'Covid-19'...\n",
            "remote: Enumerating objects: 62, done.\u001b[K\n",
            "remote: Counting objects:   1% (1/62)\u001b[K\rremote: Counting objects:   3% (2/62)\u001b[K\rremote: Counting objects:   4% (3/62)\u001b[K\rremote: Counting objects:   6% (4/62)\u001b[K\rremote: Counting objects:   8% (5/62)\u001b[K\rremote: Counting objects:   9% (6/62)\u001b[K\rremote: Counting objects:  11% (7/62)\u001b[K\rremote: Counting objects:  12% (8/62)\u001b[K\rremote: Counting objects:  14% (9/62)\u001b[K\rremote: Counting objects:  16% (10/62)\u001b[K\rremote: Counting objects:  17% (11/62)\u001b[K\rremote: Counting objects:  19% (12/62)\u001b[K\rremote: Counting objects:  20% (13/62)\u001b[K\rremote: Counting objects:  22% (14/62)\u001b[K\rremote: Counting objects:  24% (15/62)\u001b[K\rremote: Counting objects:  25% (16/62)\u001b[K\rremote: Counting objects:  27% (17/62)\u001b[K\rremote: Counting objects:  29% (18/62)\u001b[K\rremote: Counting objects:  30% (19/62)\u001b[K\rremote: Counting objects:  32% (20/62)\u001b[K\rremote: Counting objects:  33% (21/62)\u001b[K\rremote: Counting objects:  35% (22/62)\u001b[K\rremote: Counting objects:  37% (23/62)\u001b[K\rremote: Counting objects:  38% (24/62)\u001b[K\rremote: Counting objects:  40% (25/62)\u001b[K\rremote: Counting objects:  41% (26/62)\u001b[K\rremote: Counting objects:  43% (27/62)\u001b[K\rremote: Counting objects:  45% (28/62)\u001b[K\rremote: Counting objects:  46% (29/62)\u001b[K\rremote: Counting objects:  48% (30/62)\u001b[K\rremote: Counting objects:  50% (31/62)\u001b[K\rremote: Counting objects:  51% (32/62)\u001b[K\rremote: Counting objects:  53% (33/62)\u001b[K\rremote: Counting objects:  54% (34/62)\u001b[K\rremote: Counting objects:  56% (35/62)\u001b[K\rremote: Counting objects:  58% (36/62)\u001b[K\rremote: Counting objects:  59% (37/62)\u001b[K\rremote: Counting objects:  61% (38/62)\u001b[K\rremote: Counting objects:  62% (39/62)\u001b[K\rremote: Counting objects:  64% (40/62)\u001b[K\rremote: Counting objects:  66% (41/62)\u001b[K\rremote: Counting objects:  67% (42/62)\u001b[K\rremote: Counting objects:  69% (43/62)\u001b[K\rremote: Counting objects:  70% (44/62)\u001b[K\rremote: Counting objects:  72% (45/62)\u001b[K\rremote: Counting objects:  74% (46/62)\u001b[K\rremote: Counting objects:  75% (47/62)\u001b[K\rremote: Counting objects:  77% (48/62)\u001b[K\rremote: Counting objects:  79% (49/62)\u001b[K\rremote: Counting objects:  80% (50/62)\u001b[K\rremote: Counting objects:  82% (51/62)\u001b[K\rremote: Counting objects:  83% (52/62)\u001b[K\rremote: Counting objects:  85% (53/62)\u001b[K\rremote: Counting objects:  87% (54/62)\u001b[K\rremote: Counting objects:  88% (55/62)\u001b[K\rremote: Counting objects:  90% (56/62)\u001b[K\rremote: Counting objects:  91% (57/62)\u001b[K\rremote: Counting objects:  93% (58/62)\u001b[K\rremote: Counting objects:  95% (59/62)\u001b[K\rremote: Counting objects:  96% (60/62)\u001b[K\rremote: Counting objects:  98% (61/62)\u001b[K\rremote: Counting objects: 100% (62/62)\u001b[K\rremote: Counting objects: 100% (62/62), done.\u001b[K\n",
            "remote: Compressing objects: 100% (60/60), done.\u001b[K\n",
            "remote: Total 62 (delta 0), reused 59 (delta 0), pack-reused 0\u001b[K\n",
            "Unpacking objects: 100% (62/62), done.\n"
          ],
          "name": "stdout"
        }
      ]
    },
    {
      "cell_type": "code",
      "metadata": {
        "id": "_9Es9qfMKV5l",
        "colab_type": "code",
        "colab": {}
      },
      "source": [
        "!ls"
      ],
      "execution_count": 0,
      "outputs": []
    },
    {
      "cell_type": "code",
      "metadata": {
        "id": "pFzZzArPBQW6",
        "colab_type": "code",
        "colab": {}
      },
      "source": [
        "INIT_LR = 1e-3\n",
        "EPOCHS = 25\n",
        "# Load the training data set by looping over every image file\n",
        "for image_file in Path(\"Covid-19/Classifying_Covid_19/training_dataset\").glob(\"**/*.jpeg\"):\n",
        "\n",
        "    # Load the current image file\n",
        "    image_data = image.load_img(image_file, target_size=(73, 73))\n",
        "\n",
        "    # Convert the loaded image file to a numpy array\n",
        "    image_array = image.img_to_array(image_data)\n",
        "\n",
        "    # Add the current image to our list of training images\n",
        "    x_train.append(image_array)\n",
        "\n",
        "    # Add a label for this image. If it was a not_bird image, label it 0. If it was a bird, label it 1.\n",
        "    if \"normal\" in image_file.stem:\n",
        "        y_train.append(0)\n",
        "    else:\n",
        "        y_train.append(1)"
      ],
      "execution_count": 0,
      "outputs": []
    },
    {
      "cell_type": "code",
      "metadata": {
        "id": "sBfVYK56BbwT",
        "colab_type": "code",
        "colab": {
          "base_uri": "https://localhost:8080/",
          "height": 89
        },
        "outputId": "5b723c73-aa0f-4981-f02b-b9bdf56342e7"
      },
      "source": [
        "# Convert the list of separate images into a single 4D numpy array. This is what Keras expects.\n",
        "x_train = np.array(x_train)\n",
        "\n",
        "# Normalize image data to 0-to-1 range\n",
        "x_train = xception.preprocess_input(x_train)\n",
        "\n",
        "# Load the pre-trained neural network to use as a feature extractor\n",
        "feature_extractor = xception.Xception(weights='imagenet', include_top=False, input_shape=(73, 73, 3))\n",
        "\n",
        "# Extract features for each image (all in one pass)\n",
        "features_x = feature_extractor.predict(x_train)\n",
        "\n",
        "# Save the array of extracted features to a file\n",
        "joblib.dump(features_x, \"x_train.dat\")\n",
        "\n",
        "# Save the matching array of expected values to a file\n",
        "joblib.dump(y_train, \"y_train.dat\")\n"
      ],
      "execution_count": 4,
      "outputs": [
        {
          "output_type": "stream",
          "text": [
            "Downloading data from https://github.com/fchollet/deep-learning-models/releases/download/v0.4/xception_weights_tf_dim_ordering_tf_kernels_notop.h5\n",
            "83689472/83683744 [==============================] - 9s 0us/step\n"
          ],
          "name": "stdout"
        },
        {
          "output_type": "execute_result",
          "data": {
            "text/plain": [
              "['y_train.dat']"
            ]
          },
          "metadata": {
            "tags": []
          },
          "execution_count": 4
        }
      ]
    },
    {
      "cell_type": "code",
      "metadata": {
        "id": "9sXXX9VOBmpv",
        "colab_type": "code",
        "colab": {}
      },
      "source": [
        "# Load data set of extracted features\n",
        "x_train = joblib.load(\"x_train.dat\")\n",
        "y_train = joblib.load(\"y_train.dat\")\n"
      ],
      "execution_count": 0,
      "outputs": []
    },
    {
      "cell_type": "code",
      "metadata": {
        "id": "CvvFDEMpKwQt",
        "colab_type": "code",
        "colab": {}
      },
      "source": [
        "from keras.models import Sequential\n",
        "from keras.layers import Dense, Dropout, Flatten\n",
        "from keras.optimizers import Adam"
      ],
      "execution_count": 0,
      "outputs": []
    },
    {
      "cell_type": "code",
      "metadata": {
        "id": "Nn81_QfVBvuj",
        "colab_type": "code",
        "colab": {}
      },
      "source": [
        "# Create a model and add layers\n",
        "model = Sequential()\n",
        "\n",
        "# Add layers to our model\n",
        "model.add(Flatten(input_shape=x_train.shape[1:]))\n",
        "model.add(Dense(128, activation='relu'))\n",
        "model.add(Dropout(0.5))\n",
        "model.add(Dense(1, activation='sigmoid'))\n",
        "\n",
        "opt = Adam(lr=INIT_LR, decay=INIT_LR / EPOCHS)\n",
        "# Compile the model\n",
        "model.compile(\n",
        "    loss='binary_crossentropy',\n",
        "    optimizer=opt,\n",
        "    metrics=['accuracy']\n",
        ")\n"
      ],
      "execution_count": 0,
      "outputs": []
    },
    {
      "cell_type": "code",
      "metadata": {
        "id": "-Rxngy6-Bynu",
        "colab_type": "code",
        "colab": {}
      },
      "source": [
        "# Train the model\n",
        "model.fit(\n",
        "    x_train,\n",
        "    y_train,\n",
        "    epochs=EPOCHS,\n",
        "    shuffle=True,\n",
        "    verbose=1\n",
        ")\n",
        "\n",
        "# Save the trained model to a file so we can use it to make predictions later\n",
        "model.save(\"Covid_feature_classifier_model.h5\")"
      ],
      "execution_count": 0,
      "outputs": []
    },
    {
      "cell_type": "code",
      "metadata": {
        "id": "UZLgCYOnB1k-",
        "colab_type": "code",
        "colab": {}
      },
      "source": [
        "from keras.models import load_model\n",
        "from sklearn.metrics import confusion_matrix, classification_report"
      ],
      "execution_count": 0,
      "outputs": []
    },
    {
      "cell_type": "code",
      "metadata": {
        "id": "yUqfBf9ECFBU",
        "colab_type": "code",
        "colab": {
          "base_uri": "https://localhost:8080/",
          "height": 86
        },
        "outputId": "95157333-a9a1-4d9b-d2af-12b4e88f5a18"
      },
      "source": [
        "# Empty lists to hold the images and labels for each each image\n",
        "x_test = []\n",
        "y_test = []\n",
        "\n",
        "# Load the test data set by looping over every image file\n",
        "for image_file in Path(\"Covid-19/Classifying_Covid_19/test_dataset\").glob(\"**/*.jpeg\"):\n",
        "    print (image_file)\n",
        "    # Load the current image file\n",
        "    image_data = image.load_img(image_file, target_size=(73, 73))\n",
        "\n",
        "    # Convert the loaded image file to a numpy array\n",
        "    image_array = image.img_to_array(image_data)\n",
        "\n",
        "\n",
        "# Convert the list of test images to a numpy array\n",
        "    x_test = np.array(image_array)\n",
        "\n",
        "    x_test = np.expand_dims(x_test, axis=0)\n",
        "\n",
        "# Normalize test data set to 0-to-1 range\n",
        "    x_test = xception.preprocess_input(x_test)\n",
        "\n",
        "    # Load our trained classifier model\n",
        "    model = load_model(\"Covid_feature_classifier_model.h5\")\n",
        "\n",
        "    # Extract features for each image (all in one pass)\n",
        "    features_x = feature_extractor.predict(x_test)\n",
        "\n",
        "    # Given the extracted features, make a final prediction using our own model\n",
        "    predictions = model.predict(features_x)\n",
        "\n",
        "    print (predictions)"
      ],
      "execution_count": 16,
      "outputs": [
        {
          "output_type": "stream",
          "text": [
            "Covid-19/Classifying_Covid_19/test_dataset/Normal.jpeg\n",
            "[[1.]]\n",
            "Covid-19/Classifying_Covid_19/test_dataset/Covid.jpeg\n",
            "[[1.]]\n"
          ],
          "name": "stdout"
        }
      ]
    }
  ]
}